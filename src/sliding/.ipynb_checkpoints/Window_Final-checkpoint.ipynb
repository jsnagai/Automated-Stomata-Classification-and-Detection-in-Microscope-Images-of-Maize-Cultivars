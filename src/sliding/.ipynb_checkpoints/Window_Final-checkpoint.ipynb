{
 "cells": [
  {
   "cell_type": "code",
   "execution_count": null,
   "metadata": {},
   "outputs": [],
   "source": [
    "#Bibliotecas\n",
    "import cv2\n",
    "import matplotlib.pyplot as plt\n",
    "import matplotlib.image as mpimg\n",
    "import numpy as np\n",
    "import math\n",
    "import os\n",
    "import pandas as pd\n",
    "from skimage.feature import hog"
   ]
  },
  {
   "cell_type": "code",
   "execution_count": null,
   "metadata": {},
   "outputs": [],
   "source": [
    "#Machine Learning \n",
    "import sklearn\n",
    "from sklearn.neural_network import MLPClassifier\n",
    "from sklearn.neighbors import KNeighborsClassifier\n",
    "from sklearn.gaussian_process import GaussianProcessClassifier\n",
    "from sklearn.gaussian_process.kernels import RBF\n",
    "from sklearn.tree import DecisionTreeClassifier\n",
    "from sklearn.ensemble import RandomForestClassifier, AdaBoostClassifier\n",
    "from sklearn.naive_bayes import GaussianNB\n",
    "from sklearn.discriminant_analysis import LinearDiscriminantAnalysis\n",
    "from sklearn.svm import SVC\n",
    "from sklearn.svm import LinearSVC\n",
    "from sklearn.preprocessing import label_binarize\n",
    "from sklearn.decomposition import PCA\n",
    "from sklearn.cluster import KMeans, AffinityPropagation\n",
    "from sklearn.feature_selection import SelectKBest\n",
    "from sklearn.ensemble import RandomForestClassifier as RFC\n",
    "from sklearn.feature_selection import chi2\n",
    "from sklearn.feature_selection import SelectFromModel\n",
    "from sklearn.model_selection import StratifiedKFold\n",
    "from sklearn.metrics import roc_curve, auc, roc_auc_score"
   ]
  },
  {
   "cell_type": "code",
   "execution_count": null,
   "metadata": {},
   "outputs": [],
   "source": [
    "#Deep\n",
    "from keras.preprocessing.image import load_img\n",
    "from keras.preprocessing.image import img_to_array\n",
    "from keras.applications.imagenet_utils import decode_predictions\n",
    "import tensorflow as tf\n",
    "from tensorflow.keras.preprocessing.image import load_img\n",
    "from tensorflow.keras.preprocessing.image import img_to_array\n",
    "from tensorflow.keras.applications.imagenet_utils import decode_predictions\n",
    "from tensorflow.keras import backend as K\n",
    "from tensorflow.keras.callbacks import EarlyStopping\n",
    "from tensorflow.keras.preprocessing.image import ImageDataGenerator\n",
    "from tensorflow.keras import models\n",
    "\n",
    "config =  tf.compat.v1.ConfigProto()\n",
    "config.gpu_options.allow_growth=True\n",
    "sess =  tf.compat.v1.Session(config=config)\n",
    "tf.compat.v1.keras.backend.set_session(sess)\n",
    "%matplotlib inline"
   ]
  },
  {
   "cell_type": "code",
   "execution_count": null,
   "metadata": {},
   "outputs": [],
   "source": [
    "deep1 = pd.read_csv('../deep_learning/features_mobilenet.csv',index_col=False)\n",
    "deep2 = pd.read_csv('../deep_learning/features_inceptionResNetV2.csv',index_col=False)\n",
    "deep3 = pd.read_csv('../deep_learning/features_vgg16.csv',index_col=False)\n"
   ]
  },
  {
   "cell_type": "code",
   "execution_count": null,
   "metadata": {},
   "outputs": [],
   "source": [
    "deep1_1 = deep1.iloc[:,1:]\n",
    "deep2_1 = deep2.iloc[:,1:]\n",
    "deep3_1 = deep3.iloc[:,1:]"
   ]
  },
  {
   "cell_type": "code",
   "execution_count": null,
   "metadata": {},
   "outputs": [],
   "source": [
    "def roc(X_train, y_train, X_test, y_test, mean_fpr, aucs, tprs, cls, l):\n",
    "    i = 0\n",
    "    for c in cls:\n",
    "        probas_ = c.fit(X_train, y_train).predict_proba(X_test)\n",
    "        # Compute ROC curve and area the curve\n",
    "        fpr, tpr, thresholds = roc_curve(label_binarize(y_test, classes=[0, 1]), probas_[:, 1])\n",
    "        tprs.append(np.interp(mean_fpr, fpr, tpr))\n",
    "        tprs[-1][0] = 0.0\n",
    "        roc_auc = auc(fpr, tpr)\n",
    "        aucs.append(roc_auc)\n",
    "        plt.plot(fpr, tpr, lw=1, alpha=0.3, label='ROC %s (AUC = %0.5f)' % (l[i], roc_auc))\n",
    "        i += 1\n",
    "    plt.plot([0, 1], [0, 1], linestyle='--', lw=2, color='r', label='Luck', alpha=.8)\n",
    "\n",
    "    mean_tpr = np.mean(tprs, axis=0)\n",
    "    mean_tpr[-1] = 1.0\n",
    "    mean_auc = auc(mean_fpr, mean_tpr)\n",
    "    std_auc = np.std(aucs)\n",
    "    plt.plot(mean_fpr, mean_tpr, color='b', label=r'Mean ROC (AUC = %0.2f $\\pm$ %0.2f)' % (mean_auc, std_auc), lw=2, alpha=.8)\n",
    "\n",
    "    std_tpr = np.std(tprs, axis=0)\n",
    "    tprs_upper = np.minimum(mean_tpr + std_tpr, 1)\n",
    "    tprs_lower = np.maximum(mean_tpr - std_tpr, 0)\n",
    "    plt.fill_between(mean_fpr, tprs_lower, tprs_upper, color='grey', alpha=.2, label=r'$\\pm$ 1 std. dev.')\n",
    "\n",
    "    plt.xlim([-0.05, 1.05])\n",
    "    plt.ylim([-0.05, 1.05])\n",
    "    plt.xlabel('False Positive Rate')\n",
    "    plt.ylabel('True Positive Rate')\n",
    "    plt.title('Receiver operating characteristic example')\n",
    "    plt.legend(loc=\"lower right\")\n",
    "    return(plt)"
   ]
  },
  {
   "cell_type": "code",
   "execution_count": null,
   "metadata": {},
   "outputs": [],
   "source": [
    "fold = [[],[],[],[],[]]\n",
    "k = 0\n",
    "for i in range(0,2000,5):\n",
    "    for j in range(5):\n",
    "        fold[k%5].append(j+i)\n",
    "    k+=1\n",
    "tt1 = fold[0]+fold[1]+fold[2]+fold[3],fold[4]\n",
    "tt2 = fold[1]+fold[2]+fold[3]+fold[4],fold[0]\n",
    "tt3 = fold[0]+fold[2]+fold[3]+fold[4],fold[1]\n",
    "tt4 = fold[0]+fold[1]+fold[3]+fold[4],fold[2]\n",
    "tt5 = fold[0]+fold[1]+fold[2]+fold[4],fold[3]"
   ]
  },
  {
   "cell_type": "code",
   "execution_count": null,
   "metadata": {},
   "outputs": [],
   "source": [
    "treino1_name = (deep1_1.iloc[tt1[0]])['nome']\n",
    "teste1_name =  (deep1_1.iloc[tt1[1]])['nome']"
   ]
  },
  {
   "cell_type": "code",
   "execution_count": null,
   "metadata": {},
   "outputs": [],
   "source": [
    "teste_img_name = set()\n",
    "for i in teste1_name:\n",
    "    aux = i.split('_')\n",
    "    teste_img_name.add(aux[0])"
   ]
  },
  {
   "cell_type": "code",
   "execution_count": null,
   "metadata": {},
   "outputs": [],
   "source": [
    "with tf.keras.utils.CustomObjectScope({'relu6':  tf.nn.relu6,\n",
    "                        }):\n",
    "    #modelo1 = models.load_model('../deep_model/estomato_InceptionResNetV2_final.h5')\n",
    "    #modelo = models.load_model('../deep_model/estomato_mobileNet.h5')\n",
    "    modelo3 = models.load_model('../deep_learning/estomato_vgg16.h5')"
   ]
  },
  {
   "cell_type": "code",
   "execution_count": null,
   "metadata": {},
   "outputs": [],
   "source": [
    "#modelo3.pop()\n",
    "modelo3.summary()"
   ]
  },
  {
   "cell_type": "code",
   "execution_count": null,
   "metadata": {},
   "outputs": [],
   "source": [
    "classifiers = [\n",
    "    SVC(kernel=\"linear\", C=0.025, probability=True),\n",
    "    MLPClassifier(alpha=1),\n",
    "    AdaBoostClassifier(),\n",
    "]\n",
    "    \n",
    "cls = [\"SVM linear\",\n",
    "       \"MLP\",\n",
    "       \"AdaBoost\",\n",
    "]"
   ]
  },
  {
   "cell_type": "code",
   "execution_count": null,
   "metadata": {},
   "outputs": [],
   "source": [
    "trained_models_cls = []\n",
    "for i in classifiers:\n",
    "    for j in [deep3_1]:\n",
    "        treino_X = j.iloc[:,:-1]\n",
    "        treino_Y = j['class']\n",
    "        trained_models_cls.append(i.fit(treino_X.iloc[tt1[0]], treino_Y.iloc[tt1[0]]))"
   ]
  },
  {
   "cell_type": "code",
   "execution_count": null,
   "metadata": {},
   "outputs": [],
   "source": [
    "dir_test = '../../data/original2/'\n",
    "test_image = ['139']\n",
    "matrices = {}\n",
    "import time\n",
    "inicio = time.time()\n",
    "cnt1 = 0\n",
    "image = {}\n",
    "for name in test_image:#,'147']:#teste_img_name:\n",
    "    # Reading image\n",
    "    image[name]=cv2.imread(dir_test+name+'.jpg')\n",
    "    #Create an auxiliary matrix\n",
    "    aux_image = np.zeros((image[name].shape[0],image[name].shape[1]))\n",
    "    \n",
    "    #Iterate over image\n",
    "    for i in range(0,image[name].shape[0],100):\n",
    "        for j in range(0,image[name].shape[1],100):\n",
    "            #Creating window\n",
    "            i1 = i+100#151\n",
    "            j1 = j+100#258\n",
    "            #Out of dimension\n",
    "            if(i1 >= image[name].shape[0] or j1 >= image[name].shape[1]):\n",
    "                break\n",
    "            #Okay\n",
    "            window = image[name][i:i+100,j:j+100]\n",
    "            window = cv2.resize(window,(224,224))\n",
    "            window_r = window.reshape(1,224,224,3)\n",
    "            features = modelo3.predict(window_r)\n",
    "            class_window = trained_models_cls[0].predict(features)\n",
    "            if(class_window):\n",
    "                for x1 in range(i,i1):\n",
    "                    for y1 in range(j,j1):\n",
    "                        aux_image[x1][y1] +=1 #255\n",
    "                cv2.imwrite(str(cnt1)+'.jpg', window)\n",
    "                cnt1+=1\n",
    "            #Out of dimension\n",
    "            if(i1 >= image[name].shape[0]):\n",
    "                break\n",
    "    \n",
    "    #Take output matrix\n",
    "    matrices[name] = aux_image\n",
    "    \n",
    "print(time.time()-inicio)"
   ]
  },
  {
   "cell_type": "code",
   "execution_count": null,
   "metadata": {},
   "outputs": [],
   "source": [
    "plt.imshow(matrices['139'],cmap='gray')"
   ]
  },
  {
   "cell_type": "code",
   "execution_count": null,
   "metadata": {},
   "outputs": [],
   "source": [
    "for name in ['139']:#,'147']:\n",
    "    and_img = np.zeros(image[name].shape,dtype=np.uint16)\n",
    "    for i in range(matrices[name].shape[0]):\n",
    "        for j in range(matrices[name].shape[1]):\n",
    "            if matrices[name][i][j]:\n",
    "                for k in range(3):\n",
    "                    and_img[i][j][k] = image[name][i][j][k]\n",
    "    plt.imshow(and_img, cmap='brg')       \n",
    "    cv2.imwrite(name+'_ale.jpg',and_img)"
   ]
  }
 ],
 "metadata": {
  "kernelspec": {
   "display_name": "Python 3",
   "language": "python",
   "name": "python3"
  },
  "language_info": {
   "codemirror_mode": {
    "name": "ipython",
    "version": 3
   },
   "file_extension": ".py",
   "mimetype": "text/x-python",
   "name": "python",
   "nbconvert_exporter": "python",
   "pygments_lexer": "ipython3",
   "version": "3.8.5"
  }
 },
 "nbformat": 4,
 "nbformat_minor": 2
}
