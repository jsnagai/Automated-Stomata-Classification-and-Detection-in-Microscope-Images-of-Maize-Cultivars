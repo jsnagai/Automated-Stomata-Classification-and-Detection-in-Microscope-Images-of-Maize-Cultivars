{
 "cells": [
  {
   "cell_type": "code",
   "execution_count": null,
   "metadata": {},
   "outputs": [],
   "source": [
    "#Libraries\n",
    "import cv2\n",
    "import matplotlib.pyplot as plt\n",
    "import matplotlib.image as mpimg\n",
    "import numpy as np\n",
    "import math\n",
    "import os\n",
    "import pandas as pd\n",
    "from skimage.feature import hog\n",
    "#Machine Learning \n",
    "import sklearn\n",
    "from sklearn.neural_network import MLPClassifier\n",
    "from sklearn.neighbors import KNeighborsClassifier\n",
    "from sklearn.gaussian_process import GaussianProcessClassifier\n",
    "from sklearn.gaussian_process.kernels import RBF\n",
    "from sklearn.tree import DecisionTreeClassifier\n",
    "from sklearn.ensemble import RandomForestClassifier, AdaBoostClassifier\n",
    "from sklearn.naive_bayes import GaussianNB\n",
    "from sklearn.discriminant_analysis import LinearDiscriminantAnalysis\n",
    "from sklearn.svm import SVC\n",
    "from sklearn.svm import LinearSVC\n",
    "from sklearn.preprocessing import label_binarize\n",
    "from sklearn.decomposition import PCA\n",
    "from sklearn.cluster import KMeans, AffinityPropagation\n",
    "from sklearn.feature_selection import SelectKBest\n",
    "from sklearn.ensemble import RandomForestClassifier as RFC\n",
    "from sklearn.feature_selection import chi2\n",
    "from sklearn.feature_selection import SelectFromModel\n",
    "from sklearn.model_selection import StratifiedKFold\n",
    "from sklearn.metrics import roc_curve, auc, roc_auc_score"
   ]
  },
  {
   "cell_type": "markdown",
   "metadata": {},
   "source": [
    "## Image Descriptors\n",
    "    - Shape\n",
    "        - SIFT\n",
    "        - HOG\n",
    "        - GIST\n",
    "    - Texture\n",
    "        - GLCM\n",
    "        - Haralick\n",
    "        - LBP"
   ]
  },
  {
   "cell_type": "code",
   "execution_count": null,
   "metadata": {},
   "outputs": [],
   "source": [
    "def roc(X_train, y_train, X_test, y_test, mean_fpr, aucs, tprs, cls, l):\n",
    "    i = 0\n",
    "    for c in cls:\n",
    "        print(c)\n",
    "        probas_ = c.fit(X_train, y_train).predict_proba(X_test)\n",
    "        # Compute ROC curve and area the curve\n",
    "        fpr, tpr, thresholds = roc_curve(label_binarize(y_test, classes=[0, 1]), probas_[:, 1])\n",
    "        tprs.append(np.interp(mean_fpr, fpr, tpr))\n",
    "        tprs[-1][0] = 0.0\n",
    "        roc_auc = auc(fpr, tpr)\n",
    "        aucs.append(roc_auc)\n",
    "        plt.plot(fpr, tpr, lw=1, alpha=0.3, label='ROC %s (AUC = %0.2f)' % (l[i], roc_auc))\n",
    "        i += 1\n",
    "    plt.plot([0, 1], [0, 1], linestyle='--', lw=2, color='r', label='Luck', alpha=.8)\n",
    "\n",
    "    mean_tpr = np.mean(tprs, axis=0)\n",
    "    mean_tpr[-1] = 1.0\n",
    "    mean_auc = auc(mean_fpr, mean_tpr)\n",
    "    std_auc = np.std(aucs)\n",
    "    plt.plot(mean_fpr, mean_tpr, color='b', label=r'Mean ROC (AUC = %0.2f $\\pm$ %0.2f)' % (mean_auc, std_auc), lw=2, alpha=.8)\n",
    "\n",
    "    std_tpr = np.std(tprs, axis=0)\n",
    "    tprs_upper = np.minimum(mean_tpr + std_tpr, 1)\n",
    "    tprs_lower = np.maximum(mean_tpr - std_tpr, 0)\n",
    "    plt.fill_between(mean_fpr, tprs_lower, tprs_upper, color='grey', alpha=.2, label=r'$\\pm$ 1 std. dev.')\n",
    "\n",
    "    plt.xlim([-0.05, 1.05])\n",
    "    plt.ylim([-0.05, 1.05])\n",
    "    plt.xlabel('False Positive Rate')\n",
    "    plt.ylabel('True Positive Rate')\n",
    "    plt.title('Receiver operating characteristic example')\n",
    "    plt.legend(loc=\"lower right\")\n",
    "    return(plt)"
   ]
  },
  {
   "cell_type": "code",
   "execution_count": null,
   "metadata": {},
   "outputs": [],
   "source": [
    "classifiers = [\n",
    "    SVC(kernel=\"linear\", C=0.025, probability=True),\n",
    "    MLPClassifier(alpha=1),\n",
    "    AdaBoostClassifier(),\n",
    "]\n",
    "    \n",
    "cls = [\"SVM linear\",\n",
    "       \"MLP\",\n",
    "       \"AdaBoost\",\n",
    "]"
   ]
  },
  {
   "cell_type": "markdown",
   "metadata": {},
   "source": [
    "## HOG"
   ]
  },
  {
   "cell_type": "code",
   "execution_count": null,
   "metadata": {},
   "outputs": [],
   "source": [
    "from skimage.feature import hog\n",
    "fds_treino = []\n",
    "fds_teste = []\n",
    "\n",
    "dir_treino = '../../data/deep_learn/train/' \n",
    "dir_teste = '../../data/deep_learn/teste/'\n",
    "\n",
    "\n",
    "for i in os.listdir(dir_treino+'stoma/'):\n",
    "    img = cv2.imread(dir_treino+'stoma/'+i)\n",
    "    fd = hog(img,visualize=False, multichannel=True)\n",
    "    aux = {k:fd[k] for k in range(len(fd))}\n",
    "    aux['class'] = 1\n",
    "    fds_treino.append(aux)\n",
    "\n",
    "    \n",
    "for i in os.listdir(dir_treino+'erro/'):\n",
    "    img = cv2.imread(dir_treino+'erro/'+i)\n",
    "    fd = hog(img,visualize=False, multichannel=True)\n",
    "    aux = {k:fd[k] for k in range(len(fd))}\n",
    "    aux['class'] = 0\n",
    "    fds_treino.append(aux)\n",
    "\n",
    "\n",
    "for i in os.listdir(dir_teste+'stoma/'):\n",
    "    img = cv2.imread(dir_teste+'stoma/'+i)\n",
    "    fd = hog(img,visualize=False, multichannel=True)\n",
    "    aux = {k:fd[k] for k in range(len(fd))}\n",
    "    aux['class'] = 1\n",
    "    fds_teste.append(aux)\n",
    "\n",
    "    \n",
    "for i in os.listdir(dir_teste+'erro/'):\n",
    "    img = cv2.imread(dir_teste+'erro/'+i)\n",
    "    fd = hog(img,visualize=False, multichannel=True)\n",
    "    aux = {k:fd[k] for k in range(len(fd))}\n",
    "    aux['class'] = 0\n",
    "    fds_teste.append(aux)"
   ]
  },
  {
   "cell_type": "code",
   "execution_count": null,
   "metadata": {},
   "outputs": [],
   "source": [
    "train1 = pd.DataFrame(fds_treino)\n",
    "teste1 = pd.DataFrame(fds_teste)"
   ]
  },
  {
   "cell_type": "code",
   "execution_count": null,
   "metadata": {},
   "outputs": [],
   "source": [
    "tprs_dall = []\n",
    "aucs_dall = []\n",
    "mean_fpr_dall = np.linspace(0, 1, 100)\n",
    "fig = plt.figure(figsize=(15,15))\n",
    "imgshow = roc(train1.iloc[:,:-1],train1['class'],teste1.iloc[:,:-1],teste1['class'], mean_fpr_dall, aucs_dall,tprs_dall,classifiers,cls)"
   ]
  }
 ],
 "metadata": {
  "kernelspec": {
   "display_name": "Python 3",
   "language": "python",
   "name": "python3"
  },
  "language_info": {
   "codemirror_mode": {
    "name": "ipython",
    "version": 3
   },
   "file_extension": ".py",
   "mimetype": "text/x-python",
   "name": "python",
   "nbconvert_exporter": "python",
   "pygments_lexer": "ipython3",
   "version": "3.8.5"
  }
 },
 "nbformat": 4,
 "nbformat_minor": 2
}
