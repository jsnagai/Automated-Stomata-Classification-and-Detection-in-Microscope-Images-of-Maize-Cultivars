{
 "cells": [
  {
   "cell_type": "code",
   "execution_count": null,
   "metadata": {},
   "outputs": [],
   "source": [
    "#Libraries\n",
    "import cv2\n",
    "import matplotlib.pyplot as plt\n",
    "import matplotlib.image as mpimg\n",
    "import numpy as np\n",
    "import math\n",
    "import os\n",
    "import pandas as pd\n",
    "from skimage.feature import hog\n",
    "import pyshearlab as sl\n",
    "import pywt\n",
    "#Machine Learning \n",
    "import sklearn\n",
    "from sklearn.neural_network import MLPClassifier\n",
    "from sklearn.neighbors import KNeighborsClassifier\n",
    "from sklearn.gaussian_process import GaussianProcessClassifier\n",
    "from sklearn.gaussian_process.kernels import RBF\n",
    "from sklearn.tree import DecisionTreeClassifier\n",
    "from sklearn.ensemble import RandomForestClassifier, AdaBoostClassifier\n",
    "from sklearn.naive_bayes import GaussianNB\n",
    "from sklearn.discriminant_analysis import LinearDiscriminantAnalysis\n",
    "from sklearn.svm import SVC\n",
    "from sklearn.svm import LinearSVC\n",
    "from sklearn.preprocessing import label_binarize\n",
    "from sklearn.decomposition import PCA\n",
    "from sklearn.cluster import KMeans, AffinityPropagation\n",
    "from sklearn.feature_selection import SelectKBest\n",
    "from sklearn.ensemble import RandomForestClassifier as RFC\n",
    "from sklearn.feature_selection import chi2\n",
    "from sklearn.feature_selection import SelectFromModel\n",
    "from sklearn.model_selection import StratifiedKFold\n",
    "from sklearn.metrics import roc_curve, auc, roc_auc_score"
   ]
  },
  {
   "cell_type": "markdown",
   "metadata": {},
   "source": [
    "## Descritores\n",
    "    - Forma\n",
    "        - SIFT\n",
    "        - HOG\n",
    "        - GIST\n",
    "    - Textura\n",
    "        - GLCM\n",
    "        - Haralick\n",
    "        - LBP"
   ]
  },
  {
   "cell_type": "code",
   "execution_count": null,
   "metadata": {},
   "outputs": [],
   "source": [
    "def roc(X_train, y_train, X_test, y_test, mean_fpr, aucs, tprs, cls, l):\n",
    "    i = 0\n",
    "    for c in cls:\n",
    "        print(c)\n",
    "        probas_ = c.fit(X_train, y_train).predict_proba(X_test)\n",
    "        # Compute ROC curve and area the curve\n",
    "        fpr, tpr, thresholds = roc_curve(label_binarize(y_test, classes=[0, 1]), probas_[:, 1])\n",
    "        tprs.append(np.interp(mean_fpr, fpr, tpr))\n",
    "        tprs[-1][0] = 0.0\n",
    "        roc_auc = auc(fpr, tpr)\n",
    "        aucs.append(roc_auc)\n",
    "        plt.plot(fpr, tpr, lw=1, alpha=0.3, label='ROC %s (AUC = %0.2f)' % (l[i], roc_auc))\n",
    "        i += 1\n",
    "    plt.plot([0, 1], [0, 1], linestyle='--', lw=2, color='r', label='Luck', alpha=.8)\n",
    "\n",
    "    mean_tpr = np.mean(tprs, axis=0)\n",
    "    mean_tpr[-1] = 1.0\n",
    "    mean_auc = auc(mean_fpr, mean_tpr)\n",
    "    std_auc = np.std(aucs)\n",
    "    plt.plot(mean_fpr, mean_tpr, color='b', label=r'Mean ROC (AUC = %0.2f $\\pm$ %0.2f)' % (mean_auc, std_auc), lw=2, alpha=.8)\n",
    "\n",
    "    std_tpr = np.std(tprs, axis=0)\n",
    "    tprs_upper = np.minimum(mean_tpr + std_tpr, 1)\n",
    "    tprs_lower = np.maximum(mean_tpr - std_tpr, 0)\n",
    "    plt.fill_between(mean_fpr, tprs_lower, tprs_upper, color='grey', alpha=.2, label=r'$\\pm$ 1 std. dev.')\n",
    "\n",
    "    plt.xlim([-0.05, 1.05])\n",
    "    plt.ylim([-0.05, 1.05])\n",
    "    plt.xlabel('False Positive Rate')\n",
    "    plt.ylabel('True Positive Rate')\n",
    "    plt.title('Receiver operating characteristic example')\n",
    "    plt.legend(loc=\"lower right\")\n",
    "    return(plt)"
   ]
  },
  {
   "cell_type": "code",
   "execution_count": null,
   "metadata": {},
   "outputs": [],
   "source": [
    "classifiers = [\n",
    "    SVC(kernel=\"linear\", C=0.025, probability=True),\n",
    "    MLPClassifier(alpha=1),\n",
    "    AdaBoostClassifier(),\n",
    "]\n",
    "    \n",
    "cls = [\"SVM linear\",\n",
    "       \"MLP\",\n",
    "       \"AdaBoost\",\n",
    "]"
   ]
  },
  {
   "cell_type": "code",
   "execution_count": null,
   "metadata": {},
   "outputs": [],
   "source": [
    "dir_estomato = \"../../data/dataset/STOMA/\"\n",
    "dir_erro = \"../../data/dataset/ERRO/\"\n",
    "\n",
    "list_stoma = sorted(os.listdir(dir_estomato))\n",
    "list_erro = sorted(os.listdir(dir_erro))\n",
    "img_estomatos = []\n",
    "img_erros = []\n",
    "\n"
   ]
  },
  {
   "cell_type": "code",
   "execution_count": null,
   "metadata": {},
   "outputs": [],
   "source": [
    "def dataset(lista):\n",
    "    '''\n",
    "    Read the images\n",
    "    '''\n",
    "    data1 = []\n",
    "    data2 = []\n",
    "    data3 = []\n",
    "    data4 = []\n",
    "    data5 = []\n",
    "    for i in range(0,len(lista),5):\n",
    "        data1.append(lista[i])\n",
    "        data2.append(lista[i+1])\n",
    "        data3.append(lista[i+2])\n",
    "        data4.append(lista[i+3])\n",
    "        data5.append(lista[i+4])\n",
    "\n",
    "    return [data1,data2,data3,data4,data5]"
   ]
  },
  {
   "cell_type": "code",
   "execution_count": null,
   "metadata": {},
   "outputs": [],
   "source": [
    "for i in list_stoma:\n",
    "    img_estomatos.append(cv2.imread(dir_estomato+i))\n",
    "for i in list_erro:\n",
    "    img_erros.append(cv2.imread(dir_erro+i))\n"
   ]
  },
  {
   "cell_type": "code",
   "execution_count": null,
   "metadata": {},
   "outputs": [],
   "source": [
    "X = np.double(img_estomatos[0])\n",
    "coeffs = pywt.dwt2(X, 'haar')\n",
    "cA, (cH, cV, cD) = coeffs\n",
    "print(cA)"
   ]
  },
  {
   "cell_type": "code",
   "execution_count": null,
   "metadata": {},
   "outputs": [],
   "source": [
    "X = np.double(img_estomatos[0])\n",
    "useGPU = 1\n"
   ]
  },
  {
   "cell_type": "code",
   "execution_count": null,
   "metadata": {},
   "outputs": [],
   "source": [
    "X.shape"
   ]
  },
  {
   "cell_type": "code",
   "execution_count": null,
   "metadata": {},
   "outputs": [],
   "source": [
    "shearletSystem = sl.SLgetShearletSystem2D(useGPU,X.shape[0],X.shape[1],4)\n",
    "coeffs = sl.SLsheardec2D(X,shearletSystem)\n",
    "print(coeffs)\n",
    "Xrec = sl.SLshearrec2D(coeffs,shearletSystem)"
   ]
  },
  {
   "cell_type": "markdown",
   "metadata": {},
   "source": [
    "## HOG"
   ]
  },
  {
   "cell_type": "code",
   "execution_count": null,
   "metadata": {},
   "outputs": [],
   "source": [
    "from skimage.feature import hog\n",
    "fds_treino_estomato = []\n",
    "fds_treino_erro = []\n",
    "\n",
    "\n",
    "for i in img_estomatos:\n",
    "    fd = hog(i,visualize=False, multichannel=True)\n",
    "    aux = {k:fd[k] for k in range(len(fd))}\n",
    "    aux['class'] = 1\n",
    "    fds_treino_estomato.append(aux)\n",
    "\n",
    "    \n",
    "for i in img_erros:\n",
    "    fd = hog(i,visualize=False, multichannel=True)\n",
    "    aux = {k:fd[k] for k in range(len(fd))}\n",
    "    aux['class'] = 0\n",
    "    fds_treino_erro.append(aux)\n",
    "\n",
    "\n",
    "\n"
   ]
  },
  {
   "cell_type": "code",
   "execution_count": null,
   "metadata": {},
   "outputs": [],
   "source": [
    "estomato = dataset(fds_treino_estomato)\n",
    "erro = dataset(fds_treino_erro)\n",
    "\n"
   ]
  },
  {
   "cell_type": "code",
   "execution_count": null,
   "metadata": {},
   "outputs": [],
   "source": [
    "del fds_treino_estomato\n",
    "del fds_treino_erro\n",
    "\n",
    "train1 = pd.DataFrame(sum(estomato[0:4],[])+sum(erro[0:4],[]))\n",
    "teste1 = pd.DataFrame(estomato[4]+erro[4])\n",
    "\n",
    "\n",
    "tprs_dall = []\n",
    "aucs_dall = []\n",
    "mean_fpr_dall = np.linspace(0, 1, 100)\n",
    "fig = plt.figure(figsize=(15,15))\n",
    "imgshow = roc(train1.iloc[:,:-1],train1['class'],teste1.iloc[:,:-1],teste1['class'], mean_fpr_dall, aucs_dall,tprs_dall,classifiers,cls)\n",
    "\n",
    "del train1\n",
    "del teste1\n",
    "\n",
    "\n"
   ]
  },
  {
   "cell_type": "code",
   "execution_count": null,
   "metadata": {},
   "outputs": [],
   "source": [
    "train2 = pd.DataFrame(sum([estomato[0],estomato[1],estomato[2],estomato[4]],[])+\n",
    "                      sum([erro[0],erro[1],erro[2],erro[4]],[]))\n",
    "teste2 = pd.DataFrame(estomato[3]+erro[3])\n",
    "\n",
    "\n",
    "tprs_dall = []\n",
    "aucs_dall = []\n",
    "mean_fpr_dall = np.linspace(0, 1, 100)\n",
    "fig = plt.figure(figsize=(15,15))\n",
    "imgshow = roc(train2.iloc[:,:-1],train2['class'],teste2.iloc[:,:-1],teste2['class'], mean_fpr_dall, aucs_dall,tprs_dall,classifiers,cls)\n",
    "\n",
    "del train2\n",
    "del teste2"
   ]
  },
  {
   "cell_type": "code",
   "execution_count": null,
   "metadata": {},
   "outputs": [],
   "source": [
    "\n",
    "train3 = pd.DataFrame(sum([estomato[0],estomato[1],estomato[3],estomato[4]],[])+\n",
    "                      sum([erro[0],erro[1],erro[3],erro[4]],[]))\n",
    "teste3 = pd.DataFrame(estomato[2]+erro[2])\n",
    "\n",
    "\n",
    "tprs_dall = []\n",
    "aucs_dall = []\n",
    "mean_fpr_dall = np.linspace(0, 1, 100)\n",
    "fig = plt.figure(figsize=(15,15))\n",
    "imgshow = roc(train3.iloc[:,:-1],train3['class'],teste3.iloc[:,:-1],teste3['class'], mean_fpr_dall, aucs_dall,tprs_dall,classifiers,cls)\n",
    "\n",
    "del train3\n",
    "del teste3\n",
    "\n"
   ]
  },
  {
   "cell_type": "code",
   "execution_count": null,
   "metadata": {},
   "outputs": [],
   "source": [
    "train4 = pd.DataFrame(sum([estomato[0],estomato[2],estomato[3],estomato[4]],[])+\n",
    "                      sum([erro[0],erro[2],erro[3],erro[4]],[]))\n",
    "teste4 = pd.DataFrame(estomato[1]+erro[1])\n",
    "\n",
    "tprs_dall = []\n",
    "aucs_dall = []\n",
    "mean_fpr_dall = np.linspace(0, 1, 100)\n",
    "fig = plt.figure(figsize=(15,15))\n",
    "imgshow = roc(train4.iloc[:,:-1],train4['class'],teste4.iloc[:,:-1],teste4['class'], mean_fpr_dall, aucs_dall,tprs_dall,classifiers,cls)\n",
    "\n",
    "del train4\n",
    "del teste4\n"
   ]
  },
  {
   "cell_type": "code",
   "execution_count": null,
   "metadata": {},
   "outputs": [],
   "source": [
    "\n",
    "train5 = pd.DataFrame(sum([estomato[3],estomato[1],estomato[2],estomato[4]],[])+\n",
    "                      sum([erro[3],erro[1],erro[2],erro[4]],[]))\n",
    "teste5 = pd.DataFrame(estomato[0]+erro[0])\n",
    "\n",
    "tprs_dall = []\n",
    "aucs_dall = []\n",
    "mean_fpr_dall = np.linspace(0, 1, 100)\n",
    "fig = plt.figure(figsize=(15,15))\n",
    "imgshow = roc(train5.iloc[:,:-1],train5['class'],teste5.iloc[:,:-1],teste5['class'], mean_fpr_dall, aucs_dall,tprs_dall,classifiers,cls)\n",
    "\n",
    "del train5\n",
    "del teste5"
   ]
  }
 ],
 "metadata": {
  "kernelspec": {
   "display_name": "Python 3",
   "language": "python",
   "name": "python3"
  },
  "language_info": {
   "codemirror_mode": {
    "name": "ipython",
    "version": 3
   },
   "file_extension": ".py",
   "mimetype": "text/x-python",
   "name": "python",
   "nbconvert_exporter": "python",
   "pygments_lexer": "ipython3",
   "version": "3.8.5"
  }
 },
 "nbformat": 4,
 "nbformat_minor": 2
}
