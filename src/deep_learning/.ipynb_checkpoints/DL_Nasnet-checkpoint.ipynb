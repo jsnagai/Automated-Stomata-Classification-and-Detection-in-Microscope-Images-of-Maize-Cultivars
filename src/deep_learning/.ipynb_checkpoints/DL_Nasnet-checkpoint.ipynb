{
 "cells": [
  {
   "cell_type": "code",
   "execution_count": null,
   "metadata": {
    "scrolled": true
   },
   "outputs": [],
   "source": [
    "#Bibliotecas\n",
    "import cv2\n",
    "import matplotlib.pyplot as plt\n",
    "import matplotlib.image as mpimg\n",
    "import numpy as np\n",
    "import math\n",
    "import os\n",
    "import pandas as pd\n",
    "from skimage.feature import hog\n",
    "#Machine Learning \n",
    "import sklearn\n",
    "from sklearn.neural_network import MLPClassifier\n",
    "from sklearn.neighbors import KNeighborsClassifier\n",
    "from sklearn.gaussian_process import GaussianProcessClassifier\n",
    "from sklearn.gaussian_process.kernels import RBF\n",
    "from sklearn.tree import DecisionTreeClassifier\n",
    "from sklearn.ensemble import RandomForestClassifier, AdaBoostClassifier\n",
    "from sklearn.naive_bayes import GaussianNB\n",
    "from sklearn.discriminant_analysis import LinearDiscriminantAnalysis\n",
    "from sklearn.svm import SVC\n",
    "from sklearn.svm import LinearSVC\n",
    "from sklearn.preprocessing import label_binarize\n",
    "from sklearn.decomposition import PCA\n",
    "from sklearn.cluster import KMeans, AffinityPropagation\n",
    "from sklearn.feature_selection import SelectKBest\n",
    "from sklearn.ensemble import RandomForestClassifier as RFC\n",
    "from sklearn.feature_selection import chi2\n",
    "from sklearn.feature_selection import SelectFromModel\n",
    "from sklearn.model_selection import StratifiedKFold\n",
    "from sklearn.metrics import roc_curve, auc, roc_auc_score\n",
    "#Dl\n",
    "from keras.preprocessing.image import load_img\n",
    "from keras.preprocessing.image import img_to_array\n",
    "from keras.applications.imagenet_utils import decode_predictions\n",
    "import tensorflow as tf\n",
    "from keras import backend as K\n",
    "from keras import models\n",
    "from keras import layers\n",
    "from keras import optimizers\n",
    "from keras.callbacks import EarlyStopping\n",
    "from keras.preprocessing.image import ImageDataGenerator\n",
    "from keras.utils.generic_utils import CustomObjectScope\n",
    "from tensorflow.python.keras._impl.keras.applications import mobilenet\n",
    "config = tf.ConfigProto()\n",
    "config.gpu_options.allow_growth=True\n",
    "sess = tf.Session(config=config)\n",
    "K.set_session(sess)\n",
    "\n",
    "%matplotlib inline"
   ]
  },
  {
   "cell_type": "code",
   "execution_count": null,
   "metadata": {},
   "outputs": [],
   "source": [
    "def roc(X_train, y_train, X_test, y_test, mean_fpr, aucs, tprs, cls, l):\n",
    "    i = 0\n",
    "    for c in cls:\n",
    "        probas_ = c.fit(X_train, y_train).predict_proba(X_test)\n",
    "        # Compute ROC curve and area the curve\n",
    "        fpr, tpr, thresholds = roc_curve(label_binarize(y_test, classes=[0, 1]), probas_[:, 1])\n",
    "        tprs.append(np.interp(mean_fpr, fpr, tpr))\n",
    "        tprs[-1][0] = 0.0\n",
    "        roc_auc = auc(fpr, tpr)\n",
    "        aucs.append(roc_auc)\n",
    "        plt.plot(fpr, tpr, lw=1, alpha=0.3, label='ROC %s (AUC = %0.2f)' % (l[i], roc_auc))\n",
    "        i += 1\n",
    "    plt.plot([0, 1], [0, 1], linestyle='--', lw=2, color='r', label='Luck', alpha=.8)\n",
    "\n",
    "    mean_tpr = np.mean(tprs, axis=0)\n",
    "    mean_tpr[-1] = 1.0\n",
    "    mean_auc = auc(mean_fpr, mean_tpr)\n",
    "    std_auc = np.std(aucs)\n",
    "    plt.plot(mean_fpr, mean_tpr, color='b', label=r'Mean ROC (AUC = %0.2f $\\pm$ %0.2f)' % (mean_auc, std_auc), lw=2, alpha=.8)\n",
    "\n",
    "    std_tpr = np.std(tprs, axis=0)\n",
    "    tprs_upper = np.minimum(mean_tpr + std_tpr, 1)\n",
    "    tprs_lower = np.maximum(mean_tpr - std_tpr, 0)\n",
    "    plt.fill_between(mean_fpr, tprs_lower, tprs_upper, color='grey', alpha=.2, label=r'$\\pm$ 1 std. dev.')\n",
    "\n",
    "    plt.xlim([-0.05, 1.05])\n",
    "    plt.ylim([-0.05, 1.05])\n",
    "    plt.xlabel('False Positive Rate')\n",
    "    plt.ylabel('True Positive Rate')\n",
    "    plt.title('Receiver operating characteristic example')\n",
    "    plt.legend(loc=\"lower right\")\n",
    "    return(plt)"
   ]
  },
  {
   "cell_type": "markdown",
   "metadata": {},
   "source": [
    "## DeepLearner Feature Extraction"
   ]
  },
  {
   "cell_type": "code",
   "execution_count": null,
   "metadata": {
    "scrolled": false
   },
   "outputs": [],
   "source": [
    "\n",
    "with CustomObjectScope({'relu6': mobilenet.relu6,\n",
    "                        }):\n",
    "    modelo = models.load_model('estomato_NASNetMobile.h5')"
   ]
  },
  {
   "cell_type": "code",
   "execution_count": null,
   "metadata": {},
   "outputs": [],
   "source": [
    "#modelo.pop()\n",
    "modelo.summary()\n"
   ]
  },
  {
   "cell_type": "code",
   "execution_count": null,
   "metadata": {},
   "outputs": [],
   "source": [
    "dir_estomato = \"../../data/dataset/STOMA/\"\n",
    "dir_erro = \"../../data/dataset/ERRO/\"\n",
    "\n",
    "list_stoma = sorted(os.listdir(dir_estomato))\n",
    "list_erro = sorted(os.listdir(dir_erro))\n",
    "img_estomatos = []\n",
    "img_erros = []\n"
   ]
  },
  {
   "cell_type": "code",
   "execution_count": null,
   "metadata": {},
   "outputs": [],
   "source": [
    "for i in list_stoma:\n",
    "    img_estomatos.append(cv2.imread(dir_estomato+i))\n",
    "for i in list_erro:\n",
    "    img_erros.append(cv2.imread(dir_erro+i))\n"
   ]
  },
  {
   "cell_type": "code",
   "execution_count": null,
   "metadata": {},
   "outputs": [],
   "source": [
    "teste = np.array(cv2.resize(img_estomatos[0],(221,221)))\n"
   ]
  },
  {
   "cell_type": "code",
   "execution_count": null,
   "metadata": {},
   "outputs": [],
   "source": [
    "teste = teste.reshape(1,221,221,3)"
   ]
  },
  {
   "cell_type": "code",
   "execution_count": null,
   "metadata": {
    "scrolled": true
   },
   "outputs": [],
   "source": [
    "modelo.summary()"
   ]
  },
  {
   "cell_type": "code",
   "execution_count": null,
   "metadata": {},
   "outputs": [],
   "source": [
    "modelo.compile(optimizer='sgd',\n",
    "              loss='categorical_crossentropy',\n",
    "              metrics=['acc'])"
   ]
  },
  {
   "cell_type": "code",
   "execution_count": null,
   "metadata": {},
   "outputs": [],
   "source": [
    "data = list()\n",
    "for i in img_estomatos:\n",
    "    resized_image = cv2.resize(i, (221, 221)) \n",
    "    ynew = modelo.predict(resized_image.reshape(1,221,221,3))\n",
    "    tmp = np.append(ynew,1)\n",
    "    data.append(tmp)\n",
    "    \n",
    "for i in img_erros:\n",
    "    resized_image = cv2.resize(i, (221, 221)) \n",
    "    ynew = modelo.predict(resized_image.reshape(1,221,221,3))\n",
    "    tmp = np.append(ynew,0)\n",
    "    data.append(tmp)\n",
    " \n",
    " "
   ]
  },
  {
   "cell_type": "code",
   "execution_count": null,
   "metadata": {},
   "outputs": [],
   "source": [
    "data = pd.DataFrame(data)"
   ]
  },
  {
   "cell_type": "code",
   "execution_count": null,
   "metadata": {},
   "outputs": [],
   "source": [
    "list_stoma = [i[:-5] for i in list_stoma]\n",
    "list_erro = [i[:-5] for i in list_erro]"
   ]
  },
  {
   "cell_type": "code",
   "execution_count": null,
   "metadata": {},
   "outputs": [],
   "source": [
    "\n",
    "data['class'] = data[1024]\n",
    "data['nome'] = list_stoma+list_erro\n",
    "data = data.drop(columns=[1024])\n",
    "data.to_csv('features_nasnet.csv')"
   ]
  },
  {
   "cell_type": "code",
   "execution_count": null,
   "metadata": {},
   "outputs": [],
   "source": [
    "from sklearn.model_selection import StratifiedKFold\n",
    "X = data.iloc[:,:-1]\n",
    "y = data['class']\n",
    "skf = StratifiedKFold(n_splits=5)\n",
    "classifiers = [\n",
    "    SVC(kernel=\"linear\", C=0.025, probability=True),\n",
    "    MLPClassifier(alpha=1),\n",
    "    AdaBoostClassifier(),\n",
    "]\n",
    "    \n",
    "cls = [\"SVM linear\",\n",
    "       \"MLP\",\n",
    "       \"AdaBoost\",\n",
    "]"
   ]
  },
  {
   "cell_type": "code",
   "execution_count": null,
   "metadata": {},
   "outputs": [],
   "source": [
    "fold = [[],[],[],[],[]]\n",
    "k = 0\n",
    "for i in range(0,2000,5):\n",
    "    for j in range(5):\n",
    "        fold[k%5].append(j+i)\n",
    "    k+=1\n",
    "tt1 = fold[0]+fold[1]+fold[2]+fold[3],fold[4]\n",
    "tt2 = fold[1]+fold[2]+fold[3]+fold[4],fold[0]\n",
    "tt3 = fold[0]+fold[2]+fold[3]+fold[4],fold[1]\n",
    "tt4 = fold[0]+fold[1]+fold[3]+fold[4],fold[2]\n",
    "tt5 = fold[0]+fold[1]+fold[2]+fold[4],fold[3]"
   ]
  },
  {
   "cell_type": "code",
   "execution_count": null,
   "metadata": {},
   "outputs": [],
   "source": [
    "fig = plt.figure(figsize=(15,15))\n",
    "row = 2\n",
    "col = 3\n",
    "i = 1\n",
    "aux_data = data.iloc[:,:-1]\n",
    "for train, test in [tt1,tt2,tt3,tt4,tt5]:\n",
    "    tprs_dall = []\n",
    "    aucs_dall = []\n",
    "    mean_fpr_dall = np.linspace(0, 1, 100)\n",
    "    a = fig.add_subplot(row, col, i)\n",
    "    imgshow = roc(aux_data.iloc[train],data['class'][train],aux_data.iloc[test],data['class'][test], mean_fpr_dall, aucs_dall,tprs_dall,classifiers,cls)\n",
    "    i+=1"
   ]
  }
 ],
 "metadata": {
  "kernelspec": {
   "display_name": "Python 3",
   "language": "python",
   "name": "python3"
  },
  "language_info": {
   "codemirror_mode": {
    "name": "ipython",
    "version": 3
   },
   "file_extension": ".py",
   "mimetype": "text/x-python",
   "name": "python",
   "nbconvert_exporter": "python",
   "pygments_lexer": "ipython3",
   "version": "3.8.5"
  }
 },
 "nbformat": 4,
 "nbformat_minor": 2
}
