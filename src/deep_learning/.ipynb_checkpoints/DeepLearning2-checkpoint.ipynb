{
 "cells": [
  {
   "cell_type": "code",
   "execution_count": null,
   "metadata": {},
   "outputs": [],
   "source": [
    "import tensorflow as tf\n",
    "sess = tf.Session()\n",
    "\n",
    "from keras import backend as K\n",
    "K.set_session(sess)\n",
    "from matplotlib import pyplot as plt\n",
    "\n",
    "import cv2\n",
    "import os \n",
    "import numpy as np"
   ]
  },
  {
   "cell_type": "code",
   "execution_count": null,
   "metadata": {},
   "outputs": [],
   "source": []
  },
  {
   "cell_type": "code",
   "execution_count": null,
   "metadata": {},
   "outputs": [],
   "source": [
    "#Imagens de Estômatos e Erros\n",
    "estomatos_treino = []\n",
    "erros_treino = []\n",
    "\n",
    "estomatos_teste = []\n",
    "erros_teste = []\n",
    "\n",
    "dir_estomatos_treino = os.listdir(\"TREINO/stoma/\")\n",
    "dir_erros_treino = os.listdir(\"TREINO/erro/\")\n",
    "dir_estomatos_teste = os.listdir(\"TESTE/stoma/\")\n",
    "dir_erros_teste = os.listdir(\"TESTE/erro/\")\n",
    "dir1_treino = \"TREINO/stoma/\"\n",
    "dir2_treino = \"TREINO/erro/\"\n",
    "dir1_teste = \"TESTE/stoma/\"\n",
    "dir2_teste = \"TESTE/erro/\"\n",
    "\n",
    "\n",
    "for aux in dir_estomatos_treino:\n",
    "    estomatos_treino.append(cv2.imread(dir1_treino + aux))\n",
    "    \n",
    "for aux in dir_erros_treino:\n",
    "    erros_treino.append(cv2.imread(dir2_treino + aux))\n",
    "    \n",
    "for aux in dir_estomatos_teste:\n",
    "    estomatos_teste.append(cv2.imread(dir1_teste + aux))\n",
    "\n",
    "for aux in dir_erros_teste:\n",
    "    erros_teste.append(cv2.imread(dir2_teste + aux))"
   ]
  },
  {
   "cell_type": "code",
   "execution_count": null,
   "metadata": {},
   "outputs": [],
   "source": [
    "estomatos_treino = np.array(estomatos_treino)\n",
    "erros_treino = np.array(erros_treino)\n",
    "estomatos_teste = np.array(estomatos_teste)\n",
    "erros_teste = np.array(erros_teste)\n",
    "estomatos_treino = estomatos_treino.reshape(estomatos_treino.shape[0], 3,151,258)\n",
    "erros_treino = erros_treino.reshape(erros_treino.shape[0], 3,151,258)\n",
    "estomatos_teste = estomatos_teste.reshape(estomatos_teste.shape[0], 3,151,258)\n",
    "erros_teste = erros_teste.reshape(erros_teste.shape[0], 3,151,258)\n",
    "\n",
    "y_teste = np_utils.to_categorical([1]*130+[0]*130)\n",
    "\n",
    "train_shuffled = []\n",
    "y_train_shuffled = np_utils.to_categorical([1,0]*len(estomatos_treino))\n",
    "for i in range(len(estomatos_treino)):\n",
    "    train_shuffled.append(estomatos_treino[i])\n",
    "    train_shuffled.append(erros_treino[i])\n",
    "train_shuffled = np.array(train_shuffled)"
   ]
  },
  {
   "cell_type": "code",
   "execution_count": null,
   "metadata": {},
   "outputs": [],
   "source": [
    "print(train_shuffled.shape,estomatos_teste.shape,y_train_shuffled.shape, y_teste.shape)"
   ]
  },
  {
   "cell_type": "code",
   "execution_count": null,
   "metadata": {},
   "outputs": [],
   "source": [
    "model = Sequential()\n",
    "# input: 100x100 images with 3 channels -> (100, 100, 3) tensors.\n",
    "# this applies 32 convolution filters of size 3x3 each.\n",
    "model.add(Conv2D(32, (3, 3), activation='relu', input_shape=(3,151,258)))\n",
    "model.add(Conv2D(32, (3, 3), activation='relu'))\n",
    "model.add(MaxPooling2D(pool_size=(2, 2)))#Retirando (2,2)\n",
    "model.add(Dropout(0.25))\n",
    "\n",
    "model.add(Conv2D(64, (3, 3), activation='relu'))\n",
    "model.add(Conv2D(64, (3, 3), activation='relu'))\n",
    "model.add(MaxPooling2D(pool_size=(2, 2)))\n",
    "model.add(Dropout(0.25))\n",
    "\n",
    "model.add(Flatten())\n",
    "model.add(Dense(256, activation='relu'))\n",
    "model.add(Dropout(0.5))\n",
    "model.add(Dense(2, activation='softmax'))\n",
    "\n",
    "sgd = SGD(lr=0.01, decay=1e-6, momentum=0.9, nesterov=True)\n",
    "model.compile(loss='binary_crossentropy', optimizer=sgd,metrics=['accuracy'])\n",
    "\n",
    "model.fit(train_shuffled, y_train_shuffled, batch_size=32, epochs=10,verbose=1)\n",
    "score = model.evaluate(X_teste, y_teste, batch_size=32)\n",
    "print(score)"
   ]
  }
 ],
 "metadata": {
  "kernelspec": {
   "display_name": "Python 3",
   "language": "python",
   "name": "python3"
  },
  "language_info": {
   "codemirror_mode": {
    "name": "ipython",
    "version": 3
   },
   "file_extension": ".py",
   "mimetype": "text/x-python",
   "name": "python",
   "nbconvert_exporter": "python",
   "pygments_lexer": "ipython3",
   "version": "3.6.9"
  }
 },
 "nbformat": 4,
 "nbformat_minor": 2
}
